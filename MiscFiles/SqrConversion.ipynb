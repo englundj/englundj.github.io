{
 "cells": [
  {
   "cell_type": "code",
   "execution_count": 1,
   "id": "ba1b5b51",
   "metadata": {},
   "outputs": [],
   "source": [
    "def sqr(z):\n",
    "    return z**2"
   ]
  },
  {
   "cell_type": "code",
   "execution_count": 4,
   "id": "38d80ea0",
   "metadata": {},
   "outputs": [
    {
     "name": "stdout",
     "output_type": "stream",
     "text": [
      "2 \n",
      " 4\n"
     ]
    }
   ],
   "source": [
    "x = 2\n",
    "y = sqr(x)\n",
    "print(x,'\\n',y)"
   ]
  },
  {
   "cell_type": "code",
   "execution_count": 5,
   "id": "df3f40f4",
   "metadata": {},
   "outputs": [
    {
     "name": "stdout",
     "output_type": "stream",
     "text": [
      "3 9\n"
     ]
    }
   ],
   "source": [
    "s = 3\n",
    "print(s,sqr(3))"
   ]
  },
  {
   "cell_type": "code",
   "execution_count": 1,
   "id": "a0858ca4",
   "metadata": {},
   "outputs": [
    {
     "name": "stdout",
     "output_type": "stream",
     "text": [
      "2 4\n",
      "Do more computations\n"
     ]
    }
   ],
   "source": [
    "x = 2\n",
    "y = x**2\n",
    "print(x,y)\n",
    "print(\"Keep Working!\")"
   ]
  },
  {
   "cell_type": "code",
   "execution_count": null,
   "id": "b3012b4b",
   "metadata": {},
   "outputs": [],
   "source": []
  }
 ],
 "metadata": {
  "kernelspec": {
   "display_name": "Python 3",
   "language": "python",
   "name": "python3"
  },
  "language_info": {
   "codemirror_mode": {
    "name": "ipython",
    "version": 3
   },
   "file_extension": ".py",
   "mimetype": "text/x-python",
   "name": "python",
   "nbconvert_exporter": "python",
   "pygments_lexer": "ipython3",
   "version": "3.8.8"
  }
 },
 "nbformat": 4,
 "nbformat_minor": 5
}
