{
 "cells": [
  {
   "cell_type": "markdown",
   "metadata": {},
   "source": [
    "This workbook is used to convert a list of temperatures from Fahrenheit to Celsius. The end result will be a statment that reads both the Fahrenheit value entered and the Celsius equivalent value. If there are any values in the list that cannot be converted to a float data type, they will be ignored. For example, if the list contains a value 'x',the program will skip the value and continue to the next value. The end result is a list of statements structured in this format: \"32 degreees Fahrenheit is equivalent with 0 degrees Celsius\"."
   ]
  },
  {
   "cell_type": "code",
   "execution_count": 1,
   "metadata": {},
   "outputs": [
    {
     "name": "stdout",
     "output_type": "stream",
     "text": [
      "56.2 degrees Fahrenheit is equivalent with 13.4 degrees Celsius\n",
      "31.8 degrees Fahrenheit is equivalent with -0.111 degrees Celsius\n",
      "81.7 degrees Fahrenheit is equivalent with 27.6 degrees Celsius\n",
      "45.6 degrees Fahrenheit is equivalent with 7.56 degrees Celsius\n",
      "71.3 degrees Fahrenheit is equivalent with 21.8 degrees Celsius\n",
      "62.9 degrees Fahrenheit is equivalent with 17.2 degrees Celsius\n",
      "59 degrees Fahrenheit is equivalent with 15 degrees Celsius\n",
      "92.5 degrees Fahrenheit is equivalent with 33.6 degrees Celsius\n",
      "95 degrees Fahrenheit is equivalent with 35 degrees Celsius\n",
      "19.2 degrees Fahrenheit is equivalent with -7.11 degrees Celsius\n",
      "15 degrees Fahrenheit is equivalent with -9.44 degrees Celsius\n"
     ]
    }
   ],
   "source": [
    "temps = [56.2,31.8,'x',81.7,45.6,71.3,'this is text',62.9,59.0,92.5,95.0,19.2,15.0]\n",
    "for F in temps: #define variable F to begin looping\n",
    "    try: \n",
    "        F = float(F) #Attempts to convert user input to a float. If successful, continue through the code. \n",
    "        C = (F - 32.0) * (5/9) #Convert Fahrenheit to Celsius\n",
    "        F = '{0:.3g}'.format(F) #These two lines are strictly for 'clean' formatting. \n",
    "        C = '{0:.3g}'.format(C) \n",
    "        Result =f\"{F} degrees Fahrenheit is equivalent with {C} degrees Celsius\"\n",
    "        print(Result)  #Print a clean statement for the user.\n",
    "    except: #This is used if the conversion is not successful. We use continue to ignore the values that cannot be converted. \n",
    "        continue #Ignore any values that are not numbers."
   ]
  },
  {
   "cell_type": "code",
   "execution_count": null,
   "metadata": {},
   "outputs": [],
   "source": []
  }
 ],
 "metadata": {
  "kernelspec": {
   "display_name": "Python 3",
   "language": "python",
   "name": "python3"
  },
  "language_info": {
   "codemirror_mode": {
    "name": "ipython",
    "version": 3
   },
   "file_extension": ".py",
   "mimetype": "text/x-python",
   "name": "python",
   "nbconvert_exporter": "python",
   "pygments_lexer": "ipython3",
   "version": "3.8.8"
  }
 },
 "nbformat": 4,
 "nbformat_minor": 2
}
